{
  "nbformat": 4,
  "nbformat_minor": 0,
  "metadata": {
    "colab": {
      "provenance": [],
      "toc_visible": true
    },
    "kernelspec": {
      "name": "python3",
      "display_name": "Python 3"
    },
    "language_info": {
      "name": "python"
    }
  },
  "cells": [
    {
      "cell_type": "code",
      "execution_count": 2,
      "metadata": {
        "colab": {
          "base_uri": "https://localhost:8080/"
        },
        "id": "9lLTr1zFexNO",
        "outputId": "dca47426-b9fe-42dd-8490-66c6e937cbfe"
      },
      "outputs": [
        {
          "output_type": "stream",
          "name": "stdout",
          "text": [
            "tensor([[0.9997],\n",
            "        [0.9976]])\n"
          ]
        }
      ],
      "source": [
        "import torch\n",
        "\n",
        "# set seed\n",
        "torch.manual_seed(1)\n",
        "def tanhfunc(x):\n",
        "    return (torch.exp(x)-torch.exp(-x))/(torch.exp(x)+torch.exp(-x))\n",
        "def sigmoid(x):\n",
        "    return 1 / (1 + torch.exp(-x))\n",
        "# convert X matrix to tensor\n",
        "X = torch.tensor([[1., 2., 3.], [4., 5., 6.]])\n",
        "\n",
        "# define neural network architecture\n",
        "inputlayer = X.shape[1]\n",
        "hiddenlayer = 50\n",
        "outputlayer = 1\n",
        "\n",
        "\n",
        "hw = torch.randn(inputlayer, hiddenlayer)\n",
        "\n",
        "\n",
        "hb = torch.zeros(hiddenlayer)\n",
        "\n",
        "# define weights for output layer\n",
        "ow = torch.randn(hiddenlayer, outputlayer)\n",
        "\n",
        "# define bias for output layer\n",
        "ob = torch.zeros(outputlayer)\n",
        "\n",
        "# define activation functions\n",
        "\n",
        "\n",
        "\n",
        "\n",
        "# perform forward propagation\n",
        "hiddenfunc = tanhfunc(torch.matmul(X, hw) + hb)\n",
        "outputfunc = sigmoid(torch.matmul(hiddenfunc, ow) + ob)\n",
        "\n",
        "print(outputfunc)"
      ]
    },
    {
      "cell_type": "code",
      "source": [
        "import torch\n",
        "\n",
        "# set seed\n",
        "torch.manual_seed(190401086)\n",
        "def tanhfunc(x):\n",
        "    return (torch.exp(x)-torch.exp(-x))/(torch.exp(x)+torch.exp(-x))\n",
        "def sigmoid(x):\n",
        "    return 1 / (1 + torch.exp(-x))\n",
        "# convert X matrix to tensor\n",
        "X = torch.tensor([[1., 2., 3.], [4., 5., 6.]])\n",
        "\n",
        "# define neural network architecture\n",
        "inputlayer = X.shape[1]\n",
        "hiddenlayer = 50\n",
        "outputlayer = 1\n",
        "\n",
        "\n",
        "hw = torch.randn(inputlayer, hiddenlayer)\n",
        "\n",
        "\n",
        "hb = torch.zeros(hiddenlayer)\n",
        "\n",
        "# define weights for output layer\n",
        "ow = torch.randn(hiddenlayer, outputlayer)\n",
        "\n",
        "# define bias for output layer\n",
        "ob = torch.zeros(outputlayer)\n",
        "\n",
        "# define activation functions\n",
        "\n",
        "\n",
        "\n",
        "\n",
        "# perform forward propagation\n",
        "hiddenfunc = tanhfunc(torch.matmul(X, hw) + hb)\n",
        "outputfunc = sigmoid(torch.matmul(hiddenfunc, ow) + ob)\n",
        "\n",
        "print(outputfunc)"
      ],
      "metadata": {
        "colab": {
          "base_uri": "https://localhost:8080/"
        },
        "id": "IFWEPtXKzJrM",
        "outputId": "65057558-c54f-488b-fc9b-d31cb49fa818"
      },
      "execution_count": 3,
      "outputs": [
        {
          "output_type": "stream",
          "name": "stdout",
          "text": [
            "tensor([[0.9490],\n",
            "        [0.9751]])\n"
          ]
        }
      ]
    },
    {
      "cell_type": "markdown",
      "source": [
        "# Yeni Bölüm"
      ],
      "metadata": {
        "id": "9Mf7_xBeGF7k"
      }
    },
    {
      "cell_type": "code",
      "source": [
        "hw,hb,ow,ob"
      ],
      "metadata": {
        "colab": {
          "base_uri": "https://localhost:8080/"
        },
        "id": "ftCnX2sCosqF",
        "outputId": "72e988e0-6553-4ab9-9e4c-4c7ef4fd4b75"
      },
      "execution_count": null,
      "outputs": [
        {
          "output_type": "execute_result",
          "data": {
            "text/plain": [
              "(tensor([[ 0.2858, -0.9093, -0.4658,  1.4290,  1.2119, -1.2641,  0.8637,  0.5497,\n",
              "          -0.2130, -0.0618,  0.4604,  0.7826,  0.2334,  0.3030, -0.1911,  0.4557,\n",
              "          -0.4866,  0.5272,  0.3336, -1.0165,  2.1245, -1.0818, -1.7988, -0.7912,\n",
              "           0.1679, -1.4211,  0.3764, -0.9346, -1.3235, -1.1551, -1.0001,  1.3161,\n",
              "          -0.0053, -1.1514,  0.4603, -1.1152, -1.2061, -0.4533,  1.1832, -0.5047,\n",
              "          -1.8111,  1.6853, -0.6082, -2.1819, -1.6261,  1.0609,  0.6371,  2.1604,\n",
              "           0.7778,  0.2191],\n",
              "         [-0.8497,  0.0452,  2.9281, -0.9022, -1.4959, -1.4619, -0.5387, -0.3017,\n",
              "           0.3657,  0.3676, -0.5422, -0.5985, -0.0133, -0.3645, -1.2347,  0.0612,\n",
              "           2.6270, -0.4922, -0.1055,  1.4811, -1.3774,  1.6607,  0.3553,  0.9143,\n",
              "           0.6924, -0.8436,  0.1817, -1.1281, -1.2374,  0.5308, -1.8122,  0.6107,\n",
              "          -1.0773,  0.5218,  0.2633,  0.4532, -1.3385,  0.8024, -2.5145, -2.1248,\n",
              "           0.4073,  1.2016,  1.7781,  1.1294,  2.4989,  0.8083, -0.6176, -0.8708,\n",
              "          -0.6850, -0.3460],\n",
              "         [-0.3697, -1.7264,  1.0042, -0.9369, -0.6634,  0.4626, -0.2747, -1.7171,\n",
              "           0.8301, -0.3103, -0.6978, -0.7973,  0.6645,  0.7268,  0.3156, -0.0766,\n",
              "          -0.7022,  0.5801, -0.0959,  0.6508, -1.2403, -1.1804, -1.0213,  0.5982,\n",
              "           0.5764, -0.2309,  1.9454,  0.1929,  1.0115,  0.2125,  0.2240, -1.2093,\n",
              "           1.7456, -1.3804,  1.3382, -0.4578, -0.9986,  0.3351,  1.0042, -1.5116,\n",
              "           0.2253,  0.4437,  0.4327, -0.4541,  0.0845, -0.0131,  1.3058, -2.0005,\n",
              "           0.5187,  1.3434]]),\n",
              " tensor([0., 0., 0., 0., 0., 0., 0., 0., 0., 0., 0., 0., 0., 0., 0., 0., 0., 0., 0., 0., 0., 0., 0., 0.,\n",
              "         0., 0., 0., 0., 0., 0., 0., 0., 0., 0., 0., 0., 0., 0., 0., 0., 0., 0., 0., 0., 0., 0., 0., 0.,\n",
              "         0., 0.]),\n",
              " tensor([[-1.9405],\n",
              "         [-1.8147],\n",
              "         [ 1.1568],\n",
              "         [-0.5535],\n",
              "         [ 0.1946],\n",
              "         [-1.2311],\n",
              "         [ 0.6329],\n",
              "         [ 1.2596],\n",
              "         [ 0.1461],\n",
              "         [ 0.4778],\n",
              "         [ 2.0780],\n",
              "         [-0.1117],\n",
              "         [ 0.5891],\n",
              "         [ 0.5161],\n",
              "         [ 0.3918],\n",
              "         [-0.1630],\n",
              "         [-0.4071],\n",
              "         [ 0.8905],\n",
              "         [ 0.2363],\n",
              "         [ 0.7436],\n",
              "         [-1.6470],\n",
              "         [-1.1842],\n",
              "         [ 1.0415],\n",
              "         [ 0.1486],\n",
              "         [-0.2496],\n",
              "         [-0.2842],\n",
              "         [-1.5108],\n",
              "         [-0.0688],\n",
              "         [-0.0361],\n",
              "         [-1.6918],\n",
              "         [-0.3493],\n",
              "         [-0.5723],\n",
              "         [-1.0308],\n",
              "         [-0.3381],\n",
              "         [ 1.0458],\n",
              "         [-0.8674],\n",
              "         [-0.4601],\n",
              "         [ 0.5055],\n",
              "         [ 0.6916],\n",
              "         [ 0.9415],\n",
              "         [ 0.3165],\n",
              "         [ 0.2750],\n",
              "         [ 0.1570],\n",
              "         [ 0.5981],\n",
              "         [-0.7451],\n",
              "         [-0.2727],\n",
              "         [ 0.2609],\n",
              "         [ 0.3384],\n",
              "         [-0.6118],\n",
              "         [-0.8945]]),\n",
              " tensor([0.]))"
            ]
          },
          "metadata": {},
          "execution_count": 16
        }
      ]
    }
  ]
}